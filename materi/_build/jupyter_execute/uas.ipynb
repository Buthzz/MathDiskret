{
 "cells": [
  {
   "cell_type": "markdown",
   "metadata": {},
   "source": [
    "# ULANGAN AKHIR SEMESTER\n",
    "\n",
    "## Logika matematika\n",
    "Tabel:\n",
    "| NO  | P  | Q  | R  | S\n",
    "| --- | ---| ---| ---| ---|\n",
    "| 1   | T  | F  | F  | T  |\n",
    "| 2   | F  | T  | T  | F  |\n",
    "| 3   | F  | T  | F  | F  |\n",
    "| 4   | T  | T  | F  | F  |\n",
    "| 5   | F  | F  | T  | T  |\n",
    "| 6   | T  | F  | T  | F  |\n",
    "| 7   | F  | F  | T  | T  |\n",
    "| 8   | F  | T  | F  | F  |\n",
    "\n",
    "Soal: (P -> Q) -> (R -> S)\n",
    "\n",
    "Jawaban:\n",
    "| NO  | P  | Q  | R  | S  | P -> Q | R -> S | (P -> Q) -> (R -> S) |\n",
    "|---|---|---|---|---|---|---|---|\n",
    "| 1   | T  | F  | F  | T  | F      | T      | T                   |\n",
    "| 2   | F  | T  | T  | F  | T      | F      | F                   |\n",
    "| 3   | F  | T  | F  | F  | T      | T      | T                   |\n",
    "| 4   | T  | T  | F  | F  | T      | T      | T                   |\n",
    "| 5   | F  | F  | T  | T  | T      | T      | T                   |\n",
    "| 6   | T  | F  | T  | F  | F      | F      | T                   |\n",
    "| 7   | F  | F  | T  | T  | T      | T      | T                   |\n",
    "| 8   | F  | T  | F  | F  | T      | T      | T                   |\n",
    "\n",
    "## Graph\n",
    "\n",
    "| Node | A | B | C | D | E | F |\n",
    "|---|---|---|---|---|---|---|\n",
    "| A | 0 |1 |0 |1 |0 |0 |\n",
    "| B | 1 |0 |1 |0 |1 |0 |\n",
    "| C | 0 |1 |0 |1 |0 |1 |\n",
    "| D | 1 |0 |1 |0 |1 |0 |\n",
    "| E | 0 |1 |0 |1 |0 |1 |\n",
    "| F | 0 |0 |1 |0 |1 |0 |\n",
    "\n",
    "$$ Closeness Centrality (node i) = \\frac{1}{\\sum \\frac{jarak(i,j)}{n-1}} $$\n",
    "\n",
    "$$ Betweenness Centrality (node i) = \\sum \\frac{\\sigma_{st}(i)}{\\sigma_{st}} $$\n",
    "\n",
    "### Hasilnya:\n",
    "![image](img/uas.jpg)\n"
   ]
  },
  {
   "cell_type": "code",
   "execution_count": 1,
   "metadata": {
    "ExecuteTime": {
     "end_time": "2024-12-09T09:03:52.081077Z",
     "start_time": "2024-12-09T09:03:52.003086Z"
    },
    "vscode": {
     "languageId": "plaintext"
    }
   },
   "outputs": [
    {
     "name": "stdout",
     "output_type": "stream",
     "text": [
      "Hasil perhitungannya: \n",
      "\n",
      "Closeness centrality: \n",
      " {'A': 0.5555555555555556, 'B': 0.7142857142857143, 'C': 0.7142857142857143, 'D': 0.7142857142857143, 'E': 0.7142857142857143, 'F': 0.5555555555555556}\n",
      "Betweenness centrality: \n",
      " {'A': 0.03333333333333333, 'B': 0.18333333333333332, 'C': 0.18333333333333335, 'D': 0.18333333333333332, 'E': 0.18333333333333335, 'F': 0.03333333333333333}\n"
     ]
    }
   ],
   "source": [
    "#Kode pythonnya\n",
    "import networkx as nx\n",
    "import matplotlib.pyplot as plt\n",
    "\n",
    "g = nx.Graph()\n",
    "\n",
    "# Add nodes\n",
    "nodes = ['A', 'B', 'C', 'D', 'E', 'F']\n",
    "g.add_nodes_from(nodes)\n",
    "\n",
    "g.add_edge('A', 'B')\n",
    "g.add_edge('A', 'D')\n",
    "g.add_edge('B', 'C')\n",
    "g.add_edge('B', 'E')\n",
    "g.add_edge('C', 'D')\n",
    "g.add_edge('C', 'F')\n",
    "g.add_edge('D', 'E')\n",
    "g.add_edge('E', 'F')\n",
    "\n",
    "nx.draw(g, with_labels=True)\n",
    "\n",
    "plt.savefig('img/uas.png')\n",
    "plt.close()\n",
    "\n",
    "print(\"Hasil perhitungannya: \\n\")\n",
    "print(\"Closeness centrality: \\n\", nx.closeness_centrality(g))\n",
    "print(\"Betweenness centrality: \\n\", nx.betweenness_centrality(g))"
   ]
  },
  {
   "cell_type": "code",
   "execution_count": null,
   "metadata": {},
   "outputs": [],
   "source": []
  }
 ],
 "metadata": {
  "kernelspec": {
   "display_name": "Python 3 (ipykernel)",
   "language": "python",
   "name": "python3"
  },
  "language_info": {
   "codemirror_mode": {
    "name": "ipython",
    "version": 3
   },
   "file_extension": ".py",
   "mimetype": "text/x-python",
   "name": "python",
   "nbconvert_exporter": "python",
   "pygments_lexer": "ipython3",
   "version": "3.12.3"
  }
 },
 "nbformat": 4,
 "nbformat_minor": 2
}