{
 "cells": [
  {
   "cell_type": "markdown",
   "id": "599c0de280427abe",
   "metadata": {},
   "source": [
    "# cek"
   ]
  },
  {
   "cell_type": "code",
   "execution_count": 1,
   "id": "initial_id",
   "metadata": {
    "ExecuteTime": {
     "end_time": "2024-11-18T07:38:31.837932Z",
     "start_time": "2024-11-18T07:38:31.755342Z"
    },
    "collapsed": true
   },
   "outputs": [
    {
     "ename": "ModuleNotFoundError",
     "evalue": "No module named 'matplotlib'",
     "output_type": "error",
     "traceback": [
      "\u001b[1;31m---------------------------------------------------------------------------\u001b[0m",
      "\u001b[1;31mModuleNotFoundError\u001b[0m                       Traceback (most recent call last)",
      "Cell \u001b[1;32mIn[1], line 2\u001b[0m\n\u001b[0;32m      1\u001b[0m \u001b[38;5;28;01mimport\u001b[39;00m \u001b[38;5;21;01mnetworkx\u001b[39;00m \u001b[38;5;28;01mas\u001b[39;00m \u001b[38;5;21;01mnx\u001b[39;00m\n\u001b[1;32m----> 2\u001b[0m \u001b[38;5;28;01mimport\u001b[39;00m \u001b[38;5;21;01mmatplotlib\u001b[39;00m\u001b[38;5;21;01m.\u001b[39;00m\u001b[38;5;21;01mpyplot\u001b[39;00m \u001b[38;5;28;01mas\u001b[39;00m \u001b[38;5;21;01mplt\u001b[39;00m\n\u001b[0;32m      4\u001b[0m \u001b[38;5;66;03m# G = nx.Graph([(0, 1), (0, 2), (0, 3), (1, 2), (1, 3)])\u001b[39;00m\n\u001b[0;32m      6\u001b[0m g \u001b[38;5;241m=\u001b[39m nx\u001b[38;5;241m.\u001b[39mGraph()\n",
      "\u001b[1;31mModuleNotFoundError\u001b[0m: No module named 'matplotlib'"
     ]
    }
   ],
   "source": [
    "import networkx as nx\n",
    "import matplotlib.pyplot as plt\n",
    "\n",
    "# G = nx.Graph([(0, 1), (0, 2), (0, 3), (1, 2), (1, 3)])\n",
    "\n",
    "g = nx.Graph()\n",
    "\n",
    "g.nodes()\n",
    "\n",
    "g.add_edge(9, 7)\n",
    "g.add_edge(7, 5)\n",
    "g.add_edge(7, 8)\n",
    "g.add_edge(7, 6)\n",
    "g.add_edge(8, 5)\n",
    "g.add_edge(8, 6)\n",
    "g.add_edge(6, 5)\n",
    "g.add_edge(6, 4)\n",
    "g.add_edge(5, 4)\n",
    "g.add_edge(4, 3)\n",
    "g.add_edge(4, 1)\n",
    "g.add_edge(3, 1)\n",
    "g.add_edge(2, 3)\n",
    "g.add_edge(2, 1)\n",
    "\n",
    "# nx.draw(g)\n",
    "nx.draw(g, with_labels = True)\n",
    "\n",
    "print(\"Degree centrality: \\n\", nx.degree_centrality(g))\n",
    "print(\"Closeness centrality: \\n\", nx.closeness_centrality(g))\n",
    "print(\"Beetweeness centrality: \\n\", nx.betweenness_centrality(g))\n",
    "# plt.savefig(\"filename.png\")\n",
    "plt.show()\n"
   ]
  },
  {
   "cell_type": "markdown",
   "id": "e376f2c38d628b0",
   "metadata": {},
   "source": []
  }
 ],
 "metadata": {
  "kernelspec": {
   "display_name": "Python 3",
   "language": "python",
   "name": "python3"
  },
  "language_info": {
   "codemirror_mode": {
    "name": "ipython",
    "version": 3
   },
   "file_extension": ".py",
   "mimetype": "text/x-python",
   "name": "python",
   "nbconvert_exporter": "python",
   "pygments_lexer": "ipython3",
   "version": "3.12.7"
  }
 },
 "nbformat": 4,
 "nbformat_minor": 5
}